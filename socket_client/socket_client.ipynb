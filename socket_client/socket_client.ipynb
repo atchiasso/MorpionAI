{
 "cells": [
  {
   "cell_type": "code",
   "execution_count": 13,
   "metadata": {},
   "outputs": [
    {
     "name": "stdout",
     "output_type": "stream",
     "text": [
      "Connexion vers localhost:2321 reussie.\n",
      "Envoi de :b'0,0'\n",
      "Envoi ok.\n",
      "3\n",
      "Reception...\n"
     ]
    },
    {
     "ename": "ConnectionResetError",
     "evalue": "[WinError 10054] Une connexion existante a dû être fermée par l’hôte distant",
     "output_type": "error",
     "traceback": [
      "\u001b[1;31m---------------------------------------------------------------------------\u001b[0m",
      "\u001b[1;31mConnectionResetError\u001b[0m                      Traceback (most recent call last)",
      "\u001b[1;32mc:\\Users\\Armel\\Desktop\\Projet\\MorpionAI\\socket_client\\socket_client.ipynb Cell 1'\u001b[0m in \u001b[0;36m<module>\u001b[1;34m\u001b[0m\n\u001b[0;32m     <a href='vscode-notebook-cell:/c%3A/Users/Armel/Desktop/Projet/MorpionAI/socket_client/socket_client.ipynb#ch0000000?line=16'>17</a>\u001b[0m         \u001b[39mprint\u001b[39m(n)\n\u001b[0;32m     <a href='vscode-notebook-cell:/c%3A/Users/Armel/Desktop/Projet/MorpionAI/socket_client/socket_client.ipynb#ch0000000?line=18'>19</a>\u001b[0m \u001b[39mprint\u001b[39m(\u001b[39m'\u001b[39m\u001b[39mReception...\u001b[39m\u001b[39m'\u001b[39m)\n\u001b[1;32m---> <a href='vscode-notebook-cell:/c%3A/Users/Armel/Desktop/Projet/MorpionAI/socket_client/socket_client.ipynb#ch0000000?line=19'>20</a>\u001b[0m donnees \u001b[39m=\u001b[39m client\u001b[39m.\u001b[39;49mrecv(\u001b[39m1024\u001b[39;49m)\n\u001b[0;32m     <a href='vscode-notebook-cell:/c%3A/Users/Armel/Desktop/Projet/MorpionAI/socket_client/socket_client.ipynb#ch0000000?line=20'>21</a>\u001b[0m \u001b[39mprint\u001b[39m(\u001b[39m'\u001b[39m\u001b[39mRecu :\u001b[39m\u001b[39m'\u001b[39m, donnees)\n",
      "\u001b[1;31mConnectionResetError\u001b[0m: [WinError 10054] Une connexion existante a dû être fermée par l’hôte distant"
     ]
    }
   ],
   "source": [
    "import socket\n",
    "\n",
    "HOST = 'localhost'\n",
    "PORT = 2321\n",
    "\n",
    "client = socket.socket(socket.AF_INET, socket.SOCK_STREAM)\n",
    "client.connect((HOST, PORT))\n",
    "print('Connexion vers ' + HOST + ':' + str(PORT) + ' reussie.')\n",
    "\n",
    "message = (b\"0,0\")\n",
    "print('Envoi de :' + message.__str__())\n",
    "n = client.send(message)\n",
    "if (n != len(message)):\n",
    "        print('Erreur envoi.')\n",
    "else:\n",
    "        print('Envoi ok.')\n",
    "        print(n)\n",
    "\n",
    "print('Reception...')\n",
    "donnees = client.recv(1024)\n",
    "print('Recu :', donnees)\n",
    "\n",
    "#print('Deconnexion.')\n",
    "#client.close()"
   ]
  },
  {
   "cell_type": "code",
   "execution_count": 11,
   "metadata": {},
   "outputs": [],
   "source": [
    "#!/usr/bin/env python\n",
    "\n",
    "import socket\n",
    "\n",
    "client_socket = socket.socket(socket.AF_INET, socket.SOCK_STREAM)\n",
    "client_socket.connect((\"localhost\", 2321))\n",
    "\n",
    "while 1:\n",
    "\n",
    "    data = input(\"SEND( TYPE q or Q to Quit):\")\n",
    "    encoded_data = data.encode()\n",
    "    if (data != 'Q' and data != 'q'):\n",
    "        client_socket.send(encoded_data + '\\n'.encode('ascii'))\n",
    "    else:\n",
    "        client_socket.send(encoded_data + '\\n'.encode('ascii'))\n",
    "        client_socket.close()\n",
    "        break"
   ]
  }
 ],
 "metadata": {
  "kernelspec": {
   "display_name": "Python 3",
   "language": "python",
   "name": "python3"
  },
  "language_info": {
   "codemirror_mode": {
    "name": "ipython",
    "version": 3
   },
   "file_extension": ".py",
   "mimetype": "text/x-python",
   "name": "python",
   "nbconvert_exporter": "python",
   "pygments_lexer": "ipython3",
   "version": "3.10.2"
  }
 },
 "nbformat": 4,
 "nbformat_minor": 2
}
